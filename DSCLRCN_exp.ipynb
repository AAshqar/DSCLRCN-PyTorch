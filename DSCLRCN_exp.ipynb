{
 "cells": [
  {
   "cell_type": "code",
   "execution_count": 1,
   "metadata": {
    "collapsed": true
   },
   "outputs": [],
   "source": [
    "import numpy as np\n",
    "import matplotlib.pyplot as plt\n",
    "import torch\n",
    "import torchvision\n",
    "from torch.autograd import Variable\n",
    "import torch.nn as nn"
   ]
  },
  {
   "cell_type": "code",
   "execution_count": 2,
   "metadata": {
    "collapsed": true
   },
   "outputs": [],
   "source": [
    "from util.data_utils import get_SALICON_datasets\n",
    "\n",
    "train_data, val_data, test_data = get_SALICON_datasets()\n",
    "\n",
    "# train_file = 'train_datadict.pickle'\n",
    "# val_file = 'val_datadict.pickle'\n",
    "# test_file = 'test_datadict.pickle'\n",
    "\n",
    "# train_data = get_SALICON_subset(train_file)\n",
    "# val_data = get_SALICON_subset(val_file)\n",
    "# train_data = get_SALICON_subset(train_file)"
   ]
  },
  {
   "cell_type": "code",
   "execution_count": null,
   "metadata": {},
   "outputs": [
    {
     "name": "stdout",
     "output_type": "stream",
     "text": [
      "Loading weights for VGG16_CNN\n",
      "Loading weights for PlacesCNN_VGG16\n",
      "START TRAIN.\n",
      "[Iteration 0/5010] TRAIN loss: 0.000100\n",
      "[Iteration 50/5010] TRAIN loss: 0.000067\n",
      "[Iteration 100/5010] TRAIN loss: 0.000053\n",
      "[Iteration 150/5010] TRAIN loss: 0.000058\n",
      "[Iteration 200/5010] TRAIN loss: 0.000047\n"
     ]
    }
   ],
   "source": [
    "from util.data_utils import OverfitSampler\n",
    "from models.DSCLRCN_PyTorch2 import DSCLRCN\n",
    "from util.solver import Solver\n",
    "\n",
    "#num_train = 100\n",
    "train_loader = torch.utils.data.DataLoader(train_data, batch_size=30, shuffle=True, num_workers=4)#,\n",
    "                                           #sampler=OverfitSampler(num_train))\n",
    "val_loader = torch.utils.data.DataLoader(val_data, batch_size=30, shuffle=True, num_workers=4)\n",
    "\n",
    "model = DSCLRCN(local_feats_net='CNN')\n",
    "solver = Solver(optim_args={'lr': 1e-3})\n",
    "solver.train(model, train_loader, val_loader, num_epochs=15, log_nth=50)"
   ]
  },
  {
   "cell_type": "code",
   "execution_count": 3,
   "metadata": {},
   "outputs": [
    {
     "name": "stdout",
     "output_type": "stream",
     "text": [
      "START TRAIN.\n",
      "[Iteration 0/15000] TRAIN loss: 0.000036\n",
      "[Iteration 50/15000] TRAIN loss: 0.000029\n",
      "[Iteration 100/15000] TRAIN loss: 0.000032\n",
      "[Iteration 150/15000] TRAIN loss: 0.000040\n",
      "[Iteration 200/15000] TRAIN loss: 0.000029\n",
      "[Iteration 250/15000] TRAIN loss: 0.000029\n",
      "[Iteration 300/15000] TRAIN loss: 0.000030\n",
      "[Iteration 350/15000] TRAIN loss: 0.000031\n",
      "[Iteration 400/15000] TRAIN loss: 0.000033\n",
      "[Iteration 450/15000] TRAIN loss: 0.000037\n",
      "[Iteration 500/15000] TRAIN loss: 0.000032\n",
      "[Iteration 550/15000] TRAIN loss: 0.000041\n",
      "[Iteration 600/15000] TRAIN loss: 0.000031\n",
      "[Iteration 650/15000] TRAIN loss: 0.000030\n",
      "[Iteration 700/15000] TRAIN loss: 0.000029\n",
      "[Iteration 750/15000] TRAIN loss: 0.000030\n",
      "[Iteration 800/15000] TRAIN loss: 0.000027\n",
      "[Iteration 850/15000] TRAIN loss: 0.000026\n",
      "[Iteration 900/15000] TRAIN loss: 0.000030\n",
      "[Iteration 950/15000] TRAIN loss: 0.000025\n",
      "[Epoch 0/15] TRAIN KLD Loss: 0.000029\n",
      "[Epoch 0/15] VAL KLD Loss: 0.000028\n",
      "[Iteration 1000/15000] TRAIN loss: 0.000033\n",
      "[Iteration 1050/15000] TRAIN loss: 0.000022\n",
      "[Iteration 1100/15000] TRAIN loss: 0.000032\n",
      "[Iteration 1150/15000] TRAIN loss: 0.000032\n",
      "[Iteration 1200/15000] TRAIN loss: 0.000025\n",
      "[Iteration 1250/15000] TRAIN loss: 0.000029\n",
      "[Iteration 1300/15000] TRAIN loss: 0.000025\n",
      "[Iteration 1350/15000] TRAIN loss: 0.000028\n",
      "[Iteration 1400/15000] TRAIN loss: 0.000029\n",
      "[Iteration 1450/15000] TRAIN loss: 0.000027\n",
      "[Iteration 1500/15000] TRAIN loss: 0.000026\n",
      "[Iteration 1550/15000] TRAIN loss: 0.000029\n",
      "[Iteration 1600/15000] TRAIN loss: 0.000033\n",
      "[Iteration 1650/15000] TRAIN loss: 0.000024\n",
      "[Iteration 1700/15000] TRAIN loss: 0.000026\n",
      "[Iteration 1750/15000] TRAIN loss: 0.000032\n",
      "[Iteration 1800/15000] TRAIN loss: 0.000030\n",
      "[Iteration 1850/15000] TRAIN loss: 0.000022\n",
      "[Iteration 1900/15000] TRAIN loss: 0.000025\n",
      "[Iteration 1950/15000] TRAIN loss: 0.000025\n",
      "[Epoch 1/15] TRAIN KLD Loss: 0.000022\n",
      "[Epoch 1/15] VAL KLD Loss: 0.000031\n",
      "[Iteration 2000/15000] TRAIN loss: 0.000023\n",
      "[Iteration 2050/15000] TRAIN loss: 0.000026\n",
      "[Iteration 2100/15000] TRAIN loss: 0.000023\n",
      "[Iteration 2150/15000] TRAIN loss: 0.000024\n",
      "[Iteration 2200/15000] TRAIN loss: 0.000023\n",
      "[Iteration 2250/15000] TRAIN loss: 0.000022\n",
      "[Iteration 2300/15000] TRAIN loss: 0.000025\n",
      "[Iteration 2350/15000] TRAIN loss: 0.000020\n",
      "[Iteration 2400/15000] TRAIN loss: 0.000023\n",
      "[Iteration 2450/15000] TRAIN loss: 0.000021\n",
      "[Iteration 2500/15000] TRAIN loss: 0.000019\n",
      "[Iteration 2550/15000] TRAIN loss: 0.000026\n",
      "[Iteration 2600/15000] TRAIN loss: 0.000024\n",
      "[Iteration 2650/15000] TRAIN loss: 0.000027\n",
      "[Iteration 2700/15000] TRAIN loss: 0.000024\n",
      "[Iteration 2750/15000] TRAIN loss: 0.000023\n",
      "[Iteration 2800/15000] TRAIN loss: 0.000028\n",
      "[Iteration 2850/15000] TRAIN loss: 0.000026\n",
      "[Iteration 2900/15000] TRAIN loss: 0.000021\n",
      "[Iteration 2950/15000] TRAIN loss: 0.000024\n",
      "[Epoch 2/15] TRAIN KLD Loss: 0.000024\n",
      "[Epoch 2/15] VAL KLD Loss: 0.000035\n",
      "[Iteration 3000/15000] TRAIN loss: 0.000021\n",
      "[Iteration 3050/15000] TRAIN loss: 0.000019\n",
      "[Iteration 3100/15000] TRAIN loss: 0.000023\n",
      "[Iteration 3150/15000] TRAIN loss: 0.000017\n",
      "[Iteration 3200/15000] TRAIN loss: 0.000019\n",
      "[Iteration 3250/15000] TRAIN loss: 0.000018\n",
      "[Iteration 3300/15000] TRAIN loss: 0.000022\n",
      "[Iteration 3350/15000] TRAIN loss: 0.000019\n",
      "[Iteration 3400/15000] TRAIN loss: 0.000027\n",
      "[Iteration 3450/15000] TRAIN loss: 0.000016\n",
      "[Iteration 3500/15000] TRAIN loss: 0.000024\n",
      "[Iteration 3550/15000] TRAIN loss: 0.000026\n",
      "[Iteration 3600/15000] TRAIN loss: 0.000019\n",
      "[Iteration 3650/15000] TRAIN loss: 0.000019\n",
      "[Iteration 3700/15000] TRAIN loss: 0.000018\n",
      "[Iteration 3750/15000] TRAIN loss: 0.000024\n",
      "[Iteration 3800/15000] TRAIN loss: 0.000025\n",
      "[Iteration 3850/15000] TRAIN loss: 0.000023\n",
      "[Iteration 3900/15000] TRAIN loss: 0.000022\n",
      "[Iteration 3950/15000] TRAIN loss: 0.000023\n",
      "[Epoch 3/15] TRAIN KLD Loss: 0.000022\n",
      "[Epoch 3/15] VAL KLD Loss: 0.000022\n",
      "[Iteration 4000/15000] TRAIN loss: 0.000019\n",
      "[Iteration 4050/15000] TRAIN loss: 0.000020\n",
      "[Iteration 4100/15000] TRAIN loss: 0.000019\n",
      "[Iteration 4150/15000] TRAIN loss: 0.000017\n",
      "[Iteration 4200/15000] TRAIN loss: 0.000018\n",
      "[Iteration 4250/15000] TRAIN loss: 0.000019\n",
      "[Iteration 4300/15000] TRAIN loss: 0.000020\n",
      "[Iteration 4350/15000] TRAIN loss: 0.000022\n",
      "[Iteration 4400/15000] TRAIN loss: 0.000014\n",
      "[Iteration 4450/15000] TRAIN loss: 0.000020\n",
      "[Iteration 4500/15000] TRAIN loss: 0.000018\n",
      "[Iteration 4550/15000] TRAIN loss: 0.000016\n",
      "[Iteration 4600/15000] TRAIN loss: 0.000022\n",
      "[Iteration 4650/15000] TRAIN loss: 0.000016\n",
      "[Iteration 4700/15000] TRAIN loss: 0.000016\n",
      "[Iteration 4750/15000] TRAIN loss: 0.000017\n",
      "[Iteration 4800/15000] TRAIN loss: 0.000023\n",
      "[Iteration 4850/15000] TRAIN loss: 0.000021\n",
      "[Iteration 4900/15000] TRAIN loss: 0.000023\n",
      "[Iteration 4950/15000] TRAIN loss: 0.000019\n",
      "[Epoch 4/15] TRAIN KLD Loss: 0.000019\n",
      "[Epoch 4/15] VAL KLD Loss: 0.000022\n",
      "[Iteration 5000/15000] TRAIN loss: 0.000015\n",
      "[Iteration 5050/15000] TRAIN loss: 0.000016\n",
      "[Iteration 5100/15000] TRAIN loss: 0.000018\n",
      "[Iteration 5150/15000] TRAIN loss: 0.000017\n",
      "[Iteration 5200/15000] TRAIN loss: 0.000015\n",
      "[Iteration 5250/15000] TRAIN loss: 0.000016\n",
      "[Iteration 5300/15000] TRAIN loss: 0.000018\n",
      "[Iteration 5350/15000] TRAIN loss: 0.000016\n",
      "[Iteration 5400/15000] TRAIN loss: 0.000017\n",
      "[Iteration 5450/15000] TRAIN loss: 0.000012\n",
      "[Iteration 5500/15000] TRAIN loss: 0.000016\n",
      "[Iteration 5550/15000] TRAIN loss: 0.000014\n",
      "[Iteration 5600/15000] TRAIN loss: 0.000015\n",
      "[Iteration 5650/15000] TRAIN loss: 0.000016\n",
      "[Iteration 5700/15000] TRAIN loss: 0.000019\n",
      "[Iteration 5750/15000] TRAIN loss: 0.000017\n",
      "[Iteration 5800/15000] TRAIN loss: 0.000017\n",
      "[Iteration 5850/15000] TRAIN loss: 0.000016\n",
      "[Iteration 5900/15000] TRAIN loss: 0.000016\n",
      "[Iteration 5950/15000] TRAIN loss: 0.000016\n",
      "[Epoch 5/15] TRAIN KLD Loss: 0.000015\n",
      "[Epoch 5/15] VAL KLD Loss: 0.000020\n",
      "[Iteration 6000/15000] TRAIN loss: 0.000017\n",
      "[Iteration 6050/15000] TRAIN loss: 0.000016\n",
      "[Iteration 6100/15000] TRAIN loss: 0.000015\n",
      "[Iteration 6150/15000] TRAIN loss: 0.000013\n",
      "[Iteration 6200/15000] TRAIN loss: 0.000014\n",
      "[Iteration 6250/15000] TRAIN loss: 0.000014\n",
      "[Iteration 6300/15000] TRAIN loss: 0.000014\n",
      "[Iteration 6350/15000] TRAIN loss: 0.000017\n",
      "[Iteration 6400/15000] TRAIN loss: 0.000015\n",
      "[Iteration 6450/15000] TRAIN loss: 0.000017\n",
      "[Iteration 6500/15000] TRAIN loss: 0.000012\n",
      "[Iteration 6550/15000] TRAIN loss: 0.000015\n",
      "[Iteration 6600/15000] TRAIN loss: 0.000015\n",
      "[Iteration 6650/15000] TRAIN loss: 0.000014\n",
      "[Iteration 6700/15000] TRAIN loss: 0.000015\n",
      "[Iteration 6750/15000] TRAIN loss: 0.000016\n",
      "[Iteration 6800/15000] TRAIN loss: 0.000014\n",
      "[Iteration 6850/15000] TRAIN loss: 0.000013\n",
      "[Iteration 6900/15000] TRAIN loss: 0.000015\n",
      "[Iteration 6950/15000] TRAIN loss: 0.000014\n",
      "[Epoch 6/15] TRAIN KLD Loss: 0.000014\n",
      "[Epoch 6/15] VAL KLD Loss: 0.000031\n",
      "[Iteration 7000/15000] TRAIN loss: 0.000016\n",
      "[Iteration 7050/15000] TRAIN loss: 0.000015\n",
      "[Iteration 7100/15000] TRAIN loss: 0.000013\n",
      "[Iteration 7150/15000] TRAIN loss: 0.000011\n",
      "[Iteration 7200/15000] TRAIN loss: 0.000012\n",
      "[Iteration 7250/15000] TRAIN loss: 0.000014\n",
      "[Iteration 7300/15000] TRAIN loss: 0.000011\n",
      "[Iteration 7350/15000] TRAIN loss: 0.000012\n",
      "[Iteration 7400/15000] TRAIN loss: 0.000012\n",
      "[Iteration 7450/15000] TRAIN loss: 0.000014\n",
      "[Iteration 7500/15000] TRAIN loss: 0.000011\n",
      "[Iteration 7550/15000] TRAIN loss: 0.000015\n",
      "[Iteration 7600/15000] TRAIN loss: 0.000016\n",
      "[Iteration 7650/15000] TRAIN loss: 0.000015\n",
      "[Iteration 7700/15000] TRAIN loss: 0.000013\n",
      "[Iteration 7750/15000] TRAIN loss: 0.000017\n",
      "[Iteration 7800/15000] TRAIN loss: 0.000014\n",
      "[Iteration 7850/15000] TRAIN loss: 0.000014\n",
      "[Iteration 7900/15000] TRAIN loss: 0.000012\n",
      "[Iteration 7950/15000] TRAIN loss: 0.000014\n",
      "[Epoch 7/15] TRAIN KLD Loss: 0.000013\n",
      "[Epoch 7/15] VAL KLD Loss: 0.000026\n",
      "[Iteration 8000/15000] TRAIN loss: 0.000011\n",
      "[Iteration 8050/15000] TRAIN loss: 0.000012\n",
      "[Iteration 8100/15000] TRAIN loss: 0.000014\n",
      "[Iteration 8150/15000] TRAIN loss: 0.000011\n",
      "[Iteration 8200/15000] TRAIN loss: 0.000011\n",
      "[Iteration 8250/15000] TRAIN loss: 0.000010\n",
      "[Iteration 8300/15000] TRAIN loss: 0.000012\n",
      "[Iteration 8350/15000] TRAIN loss: 0.000012\n",
      "[Iteration 8400/15000] TRAIN loss: 0.000013\n",
      "[Iteration 8450/15000] TRAIN loss: 0.000013\n",
      "[Iteration 8500/15000] TRAIN loss: 0.000012\n",
      "[Iteration 8550/15000] TRAIN loss: 0.000013\n",
      "[Iteration 8600/15000] TRAIN loss: 0.000011\n"
     ]
    },
    {
     "name": "stdout",
     "output_type": "stream",
     "text": [
      "[Iteration 8650/15000] TRAIN loss: 0.000012\n",
      "[Iteration 8700/15000] TRAIN loss: 0.000011\n",
      "[Iteration 8750/15000] TRAIN loss: 0.000012\n",
      "[Iteration 8800/15000] TRAIN loss: 0.000012\n",
      "[Iteration 8850/15000] TRAIN loss: 0.000013\n",
      "[Iteration 8900/15000] TRAIN loss: 0.000011\n",
      "[Iteration 8950/15000] TRAIN loss: 0.000010\n",
      "[Epoch 8/15] TRAIN KLD Loss: 0.000014\n",
      "[Epoch 8/15] VAL KLD Loss: 0.000027\n",
      "[Iteration 9000/15000] TRAIN loss: 0.000012\n",
      "[Iteration 9050/15000] TRAIN loss: 0.000012\n",
      "[Iteration 9100/15000] TRAIN loss: 0.000011\n",
      "[Iteration 9150/15000] TRAIN loss: 0.000010\n",
      "[Iteration 9200/15000] TRAIN loss: 0.000012\n",
      "[Iteration 9250/15000] TRAIN loss: 0.000013\n",
      "[Iteration 9300/15000] TRAIN loss: 0.000012\n",
      "[Iteration 9350/15000] TRAIN loss: 0.000011\n",
      "[Iteration 9400/15000] TRAIN loss: 0.000011\n",
      "[Iteration 9450/15000] TRAIN loss: 0.000013\n",
      "[Iteration 9500/15000] TRAIN loss: 0.000010\n",
      "[Iteration 9550/15000] TRAIN loss: 0.000012\n",
      "[Iteration 9600/15000] TRAIN loss: 0.000013\n",
      "[Iteration 9650/15000] TRAIN loss: 0.000010\n",
      "[Iteration 9700/15000] TRAIN loss: 0.000010\n",
      "[Iteration 9750/15000] TRAIN loss: 0.000010\n",
      "[Iteration 9800/15000] TRAIN loss: 0.000013\n",
      "[Iteration 9850/15000] TRAIN loss: 0.000012\n",
      "[Iteration 9900/15000] TRAIN loss: 0.000013\n",
      "[Iteration 9950/15000] TRAIN loss: 0.000012\n",
      "[Epoch 9/15] TRAIN KLD Loss: 0.000013\n",
      "[Epoch 9/15] VAL KLD Loss: 0.000023\n",
      "[Iteration 10000/15000] TRAIN loss: 0.000012\n",
      "[Iteration 10050/15000] TRAIN loss: 0.000010\n",
      "[Iteration 10100/15000] TRAIN loss: 0.000010\n",
      "[Iteration 10150/15000] TRAIN loss: 0.000010\n",
      "[Iteration 10200/15000] TRAIN loss: 0.000009\n",
      "[Iteration 10250/15000] TRAIN loss: 0.000008\n",
      "[Iteration 10300/15000] TRAIN loss: 0.000010\n",
      "[Iteration 10350/15000] TRAIN loss: 0.000008\n",
      "[Iteration 10400/15000] TRAIN loss: 0.000010\n",
      "[Iteration 10450/15000] TRAIN loss: 0.000010\n",
      "[Iteration 10500/15000] TRAIN loss: 0.000011\n",
      "[Iteration 10550/15000] TRAIN loss: 0.000010\n",
      "[Iteration 10600/15000] TRAIN loss: 0.000012\n",
      "[Iteration 10650/15000] TRAIN loss: 0.000012\n",
      "[Iteration 10700/15000] TRAIN loss: 0.000010\n",
      "[Iteration 10750/15000] TRAIN loss: 0.000009\n",
      "[Iteration 10800/15000] TRAIN loss: 0.000011\n",
      "[Iteration 10850/15000] TRAIN loss: 0.000010\n",
      "[Iteration 10900/15000] TRAIN loss: 0.000011\n",
      "[Iteration 10950/15000] TRAIN loss: 0.000011\n",
      "[Epoch 10/15] TRAIN KLD Loss: 0.000010\n",
      "[Epoch 10/15] VAL KLD Loss: 0.000030\n",
      "[Iteration 11000/15000] TRAIN loss: 0.000011\n",
      "[Iteration 11050/15000] TRAIN loss: 0.000009\n",
      "[Iteration 11100/15000] TRAIN loss: 0.000009\n",
      "[Iteration 11150/15000] TRAIN loss: 0.000008\n",
      "[Iteration 11200/15000] TRAIN loss: 0.000010\n",
      "[Iteration 11250/15000] TRAIN loss: 0.000009\n",
      "[Iteration 11300/15000] TRAIN loss: 0.000010\n",
      "[Iteration 11350/15000] TRAIN loss: 0.000010\n",
      "[Iteration 11400/15000] TRAIN loss: 0.000009\n",
      "[Iteration 11450/15000] TRAIN loss: 0.000011\n",
      "[Iteration 11500/15000] TRAIN loss: 0.000011\n",
      "[Iteration 11550/15000] TRAIN loss: 0.000011\n",
      "[Iteration 11600/15000] TRAIN loss: 0.000011\n",
      "[Iteration 11650/15000] TRAIN loss: 0.000009\n",
      "[Iteration 11700/15000] TRAIN loss: 0.000010\n",
      "[Iteration 11750/15000] TRAIN loss: 0.000010\n",
      "[Iteration 11800/15000] TRAIN loss: 0.000008\n",
      "[Iteration 11850/15000] TRAIN loss: 0.000010\n",
      "[Iteration 11900/15000] TRAIN loss: 0.000010\n",
      "[Iteration 11950/15000] TRAIN loss: 0.000009\n",
      "[Epoch 11/15] TRAIN KLD Loss: 0.000010\n",
      "[Epoch 11/15] VAL KLD Loss: 0.000028\n",
      "[Iteration 12000/15000] TRAIN loss: 0.000010\n",
      "[Iteration 12050/15000] TRAIN loss: 0.000011\n",
      "[Iteration 12100/15000] TRAIN loss: 0.000010\n",
      "[Iteration 12150/15000] TRAIN loss: 0.000011\n",
      "[Iteration 12200/15000] TRAIN loss: 0.000009\n",
      "[Iteration 12250/15000] TRAIN loss: 0.000008\n",
      "[Iteration 12300/15000] TRAIN loss: 0.000009\n",
      "[Iteration 12350/15000] TRAIN loss: 0.000008\n",
      "[Iteration 12400/15000] TRAIN loss: 0.000009\n",
      "[Iteration 12450/15000] TRAIN loss: 0.000009\n",
      "[Iteration 12500/15000] TRAIN loss: 0.000009\n",
      "[Iteration 12550/15000] TRAIN loss: 0.000009\n",
      "[Iteration 12600/15000] TRAIN loss: 0.000007\n",
      "[Iteration 12650/15000] TRAIN loss: 0.000009\n",
      "[Iteration 12700/15000] TRAIN loss: 0.000009\n",
      "[Iteration 12750/15000] TRAIN loss: 0.000009\n",
      "[Iteration 12800/15000] TRAIN loss: 0.000010\n",
      "[Iteration 12850/15000] TRAIN loss: 0.000010\n",
      "[Iteration 12900/15000] TRAIN loss: 0.000009\n",
      "[Iteration 12950/15000] TRAIN loss: 0.000009\n",
      "[Epoch 12/15] TRAIN KLD Loss: 0.000009\n",
      "[Epoch 12/15] VAL KLD Loss: 0.000027\n",
      "[Iteration 13000/15000] TRAIN loss: 0.000009\n",
      "[Iteration 13050/15000] TRAIN loss: 0.000009\n",
      "[Iteration 13100/15000] TRAIN loss: 0.000009\n",
      "[Iteration 13150/15000] TRAIN loss: 0.000011\n",
      "[Iteration 13200/15000] TRAIN loss: 0.000008\n",
      "[Iteration 13250/15000] TRAIN loss: 0.000008\n",
      "[Iteration 13300/15000] TRAIN loss: 0.000010\n",
      "[Iteration 13350/15000] TRAIN loss: 0.000010\n",
      "[Iteration 13400/15000] TRAIN loss: 0.000009\n",
      "[Iteration 13450/15000] TRAIN loss: 0.000009\n",
      "[Iteration 13500/15000] TRAIN loss: 0.000008\n",
      "[Iteration 13550/15000] TRAIN loss: 0.000009\n",
      "[Iteration 13600/15000] TRAIN loss: 0.000009\n",
      "[Iteration 13650/15000] TRAIN loss: 0.000009\n",
      "[Iteration 13700/15000] TRAIN loss: 0.000009\n",
      "[Iteration 13750/15000] TRAIN loss: 0.000010\n",
      "[Iteration 13800/15000] TRAIN loss: 0.000009\n",
      "[Iteration 13850/15000] TRAIN loss: 0.000009\n",
      "[Iteration 13900/15000] TRAIN loss: 0.000010\n",
      "[Iteration 13950/15000] TRAIN loss: 0.000008\n",
      "[Epoch 13/15] TRAIN KLD Loss: 0.000009\n",
      "[Epoch 13/15] VAL KLD Loss: 0.000043\n",
      "[Iteration 14000/15000] TRAIN loss: 0.000008\n",
      "[Iteration 14050/15000] TRAIN loss: 0.000007\n",
      "[Iteration 14100/15000] TRAIN loss: 0.000009\n",
      "[Iteration 14150/15000] TRAIN loss: 0.000010\n",
      "[Iteration 14200/15000] TRAIN loss: 0.000008\n",
      "[Iteration 14250/15000] TRAIN loss: 0.000008\n",
      "[Iteration 14300/15000] TRAIN loss: 0.000009\n",
      "[Iteration 14350/15000] TRAIN loss: 0.000007\n",
      "[Iteration 14400/15000] TRAIN loss: 0.000007\n",
      "[Iteration 14450/15000] TRAIN loss: 0.000007\n",
      "[Iteration 14500/15000] TRAIN loss: 0.000008\n",
      "[Iteration 14550/15000] TRAIN loss: 0.000009\n",
      "[Iteration 14600/15000] TRAIN loss: 0.000008\n",
      "[Iteration 14650/15000] TRAIN loss: 0.000009\n",
      "[Iteration 14700/15000] TRAIN loss: 0.000008\n",
      "[Iteration 14750/15000] TRAIN loss: 0.000007\n",
      "[Iteration 14800/15000] TRAIN loss: 0.000009\n",
      "[Iteration 14850/15000] TRAIN loss: 0.000008\n",
      "[Iteration 14900/15000] TRAIN loss: 0.000009\n",
      "[Iteration 14950/15000] TRAIN loss: 0.000009\n",
      "[Epoch 14/15] TRAIN KLD Loss: 0.000011\n",
      "[Epoch 14/15] VAL KLD Loss: 0.000023\n",
      "FINISH.\n",
      "Saving model... new_model2\n"
     ]
    }
   ],
   "source": [
    "from util.solver import Solver\n",
    "\n",
    "#num_train = 100\n",
    "train_loader = torch.utils.data.DataLoader(train_data, batch_size=10, shuffle=True, num_workers=4)#,\n",
    "                                           #sampler=OverfitSampler(num_train))\n",
    "val_loader = torch.utils.data.DataLoader(val_data, batch_size=10, shuffle=True, num_workers=4)\n",
    "\n",
    "# model = DSCLRCN(local_feats_net='CNN')\n",
    "model = torch.load('new_model').cuda()\n",
    "\n",
    "solver = Solver(optim_args={'lr': 1e-4})\n",
    "solver.train(model, train_loader, val_loader, num_epochs=15, log_nth=50)\n",
    "\n",
    "model.save('new_model2')"
   ]
  },
  {
   "cell_type": "code",
   "execution_count": 4,
   "metadata": {},
   "outputs": [
    {
     "name": "stdout",
     "output_type": "stream",
     "text": [
      "Saving model... new_model\n"
     ]
    }
   ],
   "source": [
    "model.save('new_model')"
   ]
  },
  {
   "cell_type": "code",
   "execution_count": 6,
   "metadata": {},
   "outputs": [
    {
     "data": {
      "image/png": "[encoded data removed]",
      "text/plain": [
       "<matplotlib.figure.Figure at 0x7fd4c71c6c18>"
      ]
     },
     "metadata": {},
     "output_type": "display_data"
    }
   ],
   "source": [
    "x,y = test_data.__getitem__(50)\n",
    "x = x.contiguous().view(1, *x.size()).cuda()\n",
    "y = y.numpy()\n",
    "# model = torch.load('new_model').cuda()\n",
    "# model.eval()\n",
    "x_sal = model(Variable(x))\n",
    "\n",
    "x_sal_nmp = x_sal.squeeze().cpu().data.numpy()\n",
    "plt.subplot(1,2,1)\n",
    "plt.imshow(x_sal_nmp, cmap='gray')\n",
    "plt.subplot(1,2,2)\n",
    "plt.imshow(y, cmap='gray')\n",
    "plt.show()"
   ]
  },
  {
   "cell_type": "code",
   "execution_count": 29,
   "metadata": {
    "collapsed": true
   },
   "outputs": [],
   "source": [
    "#X = np.random.randn(5, 3, 360, 480).astype(np.float32)\n",
    "#X_tensor = torch.from_numpy(X.copy())\n",
    "X_tensor = torch.rand(5, 3, 96, 128)\n",
    "inputs = Variable(X_tensor)\n",
    "tsum = torch.sum(X_tensor, dim=3)\n",
    "tsum = tsum.view(*tsum.size(),1).expand_as(X_tensor)\n",
    "X_tensor /= tsum"
   ]
  },
  {
   "cell_type": "code",
   "execution_count": 3,
   "metadata": {},
   "outputs": [
    {
     "name": "stdout",
     "output_type": "stream",
     "text": [
      "Loading weights for VGG16_CNN\n",
      "Loading weights for PlacesCNN_VGG16\n"
     ]
    },
    {
     "data": {
      "text/plain": [
       "torch.Size([5, 96, 128])"
      ]
     },
     "execution_count": 3,
     "metadata": {},
     "output_type": "execute_result"
    }
   ],
   "source": [
    "from models.DSCLRCN_PyTorch import DSCLRCN\n",
    "\n",
    "full_model = DSCLRCN()\n",
    "#full_model = full_model.cuda()\n",
    "outputs = full_model(inputs)\n",
    "outputs = outputs.squeeze()\n",
    "outputs.size()"
   ]
  },
  {
   "cell_type": "code",
   "execution_count": 4,
   "metadata": {},
   "outputs": [
    {
     "data": {
      "image/png": "[encoded data removed]",
      "text/plain": [
       "<matplotlib.figure.Figure at 0x7f2304aed978>"
      ]
     },
     "metadata": {},
     "output_type": "display_data"
    },
    {
     "data": {
      "text/plain": [
       "Variable containing:\n",
       " 1.0000\n",
       "[torch.FloatTensor of size 1]"
      ]
     },
     "execution_count": 4,
     "metadata": {},
     "output_type": "execute_result"
    }
   ],
   "source": [
    "import matplotlib.pyplot as plt\n",
    "\n",
    "x = outputs.data.numpy()\n",
    "plt.imshow(x[4,:,:],cmap='gray')\n",
    "plt.show()\n",
    "\n",
    "torch.sum(outputs[2,:,:].view(96*128))"
   ]
  },
  {
   "cell_type": "code",
   "execution_count": 3,
   "metadata": {},
   "outputs": [
    {
     "name": "stdout",
     "output_type": "stream",
     "text": [
      "Loading weights for net_encoder\n",
      "torch.Size([5, 2048, 12, 16])\n"
     ]
    },
    {
     "data": {
      "text/plain": [
       "torch.Size([5, 256, 12, 16])"
      ]
     },
     "execution_count": 3,
     "metadata": {},
     "output_type": "execute_result"
    }
   ],
   "source": [
    "from models.segmentation_resnet50.segmentation_nn import SegmentationNN\n",
    "\n",
    "seg_model = SegmentationNN()\n",
    "outputs = seg_model(inputs)\n",
    "outputs.size()"
   ]
  },
  {
   "cell_type": "code",
   "execution_count": 4,
   "metadata": {},
   "outputs": [
    {
     "name": "stdout",
     "output_type": "stream",
     "text": [
      "Loading weights for VGG16_CNN\n"
     ]
    },
    {
     "data": {
      "text/plain": [
       "torch.Size([5, 256, 12, 16])"
      ]
     },
     "execution_count": 4,
     "metadata": {},
     "output_type": "execute_result"
    }
   ],
   "source": [
    "from models.cnn_vgg16.local_cnn import LocalFeatsCNN\n",
    "\n",
    "LocalFeats_model = LocalFeatsCNN()\n",
    "outputs = LocalFeats_model(inputs)\n",
    "outputs.size()"
   ]
  },
  {
   "cell_type": "code",
   "execution_count": 16,
   "metadata": {},
   "outputs": [
    {
     "data": {
      "text/plain": [
       "torch.Size([5, 16, 12, 16])"
      ]
     },
     "execution_count": 16,
     "metadata": {},
     "output_type": "execute_result"
    }
   ],
   "source": [
    "X_tensor = torch.rand(5, 3, 6, 10)\n",
    "inputs = Variable(X_tensor)\n",
    "deconv = nn.ConvTranspose2d(3, 16, 7)\n",
    "deconv(inputs).size()"
   ]
  },
  {
   "cell_type": "code",
   "execution_count": 5,
   "metadata": {},
   "outputs": [
    {
     "name": "stdout",
     "output_type": "stream",
     "text": [
      "Loading weights for PlacesCNN_VGG16\n",
      "torch.Size([5, 512, 3, 4])\n"
     ]
    },
    {
     "data": {
      "text/plain": [
       "torch.Size([5, 256])"
      ]
     },
     "execution_count": 5,
     "metadata": {},
     "output_type": "execute_result"
    }
   ],
   "source": [
    "from models.places_vgg16.places_cnn import PlacesCNN\n",
    "\n",
    "places_model = PlacesCNN()\n",
    "outputs = places_model(inputs)\n",
    "outputs.size()"
   ]
  },
  {
   "cell_type": "code",
   "execution_count": 32,
   "metadata": {
    "collapsed": true
   },
   "outputs": [],
   "source": [
    "vgg16_complete = torchvision.models.vgg16(pretrained=False)\n",
    "pretrained_dict = vgg16_complete.features.state_dict()\n",
    "\n",
    "pretrained_dict.update(vgg2)"
   ]
  },
  {
   "cell_type": "code",
   "execution_count": 7,
   "metadata": {},
   "outputs": [
    {
     "data": {
      "text/plain": [
       "torch.Size([3, 3, 360, 480])"
      ]
     },
     "execution_count": 7,
     "metadata": {},
     "output_type": "execute_result"
    }
   ],
   "source": [
    "inputs[:,:,:,].size()"
   ]
  },
  {
   "cell_type": "code",
   "execution_count": 26,
   "metadata": {},
   "outputs": [
    {
     "name": "stdout",
     "output_type": "stream",
     "text": [
      "features.0.weight\n",
      "features.0.bias\n",
      "features.2.weight\n",
      "features.2.bias\n",
      "features.5.weight\n",
      "features.5.bias\n",
      "features.7.weight\n",
      "features.7.bias\n",
      "features.10.weight\n",
      "features.10.bias\n",
      "features.12.weight\n",
      "features.12.bias\n",
      "features.14.weight\n",
      "features.14.bias\n",
      "features.17.weight\n",
      "features.17.bias\n",
      "features.19.weight\n",
      "features.19.bias\n",
      "features.21.weight\n",
      "features.21.bias\n",
      "features.24.weight\n",
      "features.24.bias\n",
      "features.26.weight\n",
      "features.26.bias\n",
      "features.28.weight\n",
      "features.28.bias\n",
      "classifier.0.weight\n",
      "classifier.0.bias\n",
      "classifier.3.weight\n",
      "classifier.3.bias\n",
      "classifier.6.weight\n",
      "classifier.6.bias\n"
     ]
    }
   ],
   "source": [
    "ss = vgg16_complete.state_dict()\n",
    "for k,v in ss.items():\n",
    "    print(k)"
   ]
  },
  {
   "cell_type": "code",
   "execution_count": 9,
   "metadata": {},
   "outputs": [
    {
     "ename": "RuntimeError",
     "evalue": "requested resize to 3x3x20x20 (3600 elements in total), but the given tensor has a size of 3x3x360x480 (1555200 elements). autograd's resize can only change the shape of a given tensor, while preserving the number of elements. ",
     "output_type": "error",
     "traceback": [
      "\u001b[0;31m---------------------------------------------------------------------------\u001b[0m",
      "\u001b[0;31mRuntimeError\u001b[0m                              Traceback (most recent call last)",
      "\u001b[0;32m<ipython-input-9-debd0eaa0a1e>\u001b[0m in \u001b[0;36m<module>\u001b[0;34m()\u001b[0m\n\u001b[0;32m----> 1\u001b[0;31m \u001b[0minputs\u001b[0m\u001b[0;34m.\u001b[0m\u001b[0mresize\u001b[0m\u001b[0;34m(\u001b[0m\u001b[0;36m3\u001b[0m\u001b[0;34m,\u001b[0m\u001b[0;36m3\u001b[0m\u001b[0;34m,\u001b[0m\u001b[0;36m20\u001b[0m\u001b[0;34m,\u001b[0m\u001b[0;36m20\u001b[0m\u001b[0;34m)\u001b[0m\u001b[0;34m.\u001b[0m\u001b[0msize\u001b[0m\u001b[0;34m(\u001b[0m\u001b[0;34m)\u001b[0m\u001b[0;34m\u001b[0m\u001b[0m\n\u001b[0m",
      "\u001b[0;32m/home/takuya/anaconda3/lib/python3.6/site-packages/torch/autograd/variable.py\u001b[0m in \u001b[0;36mresize\u001b[0;34m(self, *sizes)\u001b[0m\n\u001b[1;32m    387\u001b[0m \u001b[0;34m\u001b[0m\u001b[0m\n\u001b[1;32m    388\u001b[0m     \u001b[0;32mdef\u001b[0m \u001b[0mresize\u001b[0m\u001b[0;34m(\u001b[0m\u001b[0mself\u001b[0m\u001b[0;34m,\u001b[0m \u001b[0;34m*\u001b[0m\u001b[0msizes\u001b[0m\u001b[0;34m)\u001b[0m\u001b[0;34m:\u001b[0m\u001b[0;34m\u001b[0m\u001b[0m\n\u001b[0;32m--> 389\u001b[0;31m         \u001b[0;32mreturn\u001b[0m \u001b[0mResize\u001b[0m\u001b[0;34m.\u001b[0m\u001b[0mapply\u001b[0m\u001b[0;34m(\u001b[0m\u001b[0mself\u001b[0m\u001b[0;34m,\u001b[0m \u001b[0msizes\u001b[0m\u001b[0;34m)\u001b[0m\u001b[0;34m\u001b[0m\u001b[0m\n\u001b[0m\u001b[1;32m    390\u001b[0m \u001b[0;34m\u001b[0m\u001b[0m\n\u001b[1;32m    391\u001b[0m     \u001b[0;32mdef\u001b[0m \u001b[0mresize_as\u001b[0m\u001b[0;34m(\u001b[0m\u001b[0mself\u001b[0m\u001b[0;34m,\u001b[0m \u001b[0mvariable\u001b[0m\u001b[0;34m)\u001b[0m\u001b[0;34m:\u001b[0m\u001b[0;34m\u001b[0m\u001b[0m\n",
      "\u001b[0;32m/home/takuya/anaconda3/lib/python3.6/site-packages/torch/autograd/_functions/tensor.py\u001b[0m in \u001b[0;36mforward\u001b[0;34m(ctx, tensor, sizes)\u001b[0m\n\u001b[1;32m    359\u001b[0m                                 \u001b[0;34m\"tensor, while preserving the number of elements. \"\u001b[0m\u001b[0;34m)\u001b[0m\u001b[0;34m.\u001b[0m\u001b[0mformat\u001b[0m\u001b[0;34m(\u001b[0m\u001b[0;34m\u001b[0m\u001b[0m\n\u001b[1;32m    360\u001b[0m                 \u001b[0;34m'x'\u001b[0m\u001b[0;34m.\u001b[0m\u001b[0mjoin\u001b[0m\u001b[0;34m(\u001b[0m\u001b[0mmap\u001b[0m\u001b[0;34m(\u001b[0m\u001b[0mstr\u001b[0m\u001b[0;34m,\u001b[0m \u001b[0msizes\u001b[0m\u001b[0;34m)\u001b[0m\u001b[0;34m)\u001b[0m\u001b[0;34m,\u001b[0m \u001b[0mctx\u001b[0m\u001b[0;34m.\u001b[0m\u001b[0mnumel\u001b[0m\u001b[0;34m,\u001b[0m\u001b[0;34m\u001b[0m\u001b[0m\n\u001b[0;32m--> 361\u001b[0;31m                 'x'.join(map(str, tensor.size())), tensor.numel()))\n\u001b[0m\u001b[1;32m    362\u001b[0m         \u001b[0mctx\u001b[0m\u001b[0;34m.\u001b[0m\u001b[0minput_sizes\u001b[0m \u001b[0;34m=\u001b[0m \u001b[0mtensor\u001b[0m\u001b[0;34m.\u001b[0m\u001b[0msize\u001b[0m\u001b[0;34m(\u001b[0m\u001b[0;34m)\u001b[0m\u001b[0;34m\u001b[0m\u001b[0m\n\u001b[1;32m    363\u001b[0m         \u001b[0;32mif\u001b[0m \u001b[0mtensor\u001b[0m\u001b[0;34m.\u001b[0m\u001b[0mis_contiguous\u001b[0m\u001b[0;34m(\u001b[0m\u001b[0;34m)\u001b[0m\u001b[0;34m:\u001b[0m\u001b[0;34m\u001b[0m\u001b[0m\n",
      "\u001b[0;31mRuntimeError\u001b[0m: requested resize to 3x3x20x20 (3600 elements in total), but the given tensor has a size of 3x3x360x480 (1555200 elements). autograd's resize can only change the shape of a given tensor, while preserving the number of elements. "
     ]
    }
   ],
   "source": [
    "inputs.resize(3,3,20,20).size()"
   ]
  },
  {
   "cell_type": "code",
   "execution_count": 5,
   "metadata": {},
   "outputs": [
    {
     "data": {
      "text/plain": [
       "torch.Size([3, 512, 15, 30])"
      ]
     },
     "execution_count": 5,
     "metadata": {},
     "output_type": "execute_result"
    }
   ],
   "source": [
    "conv_test = nn.Conv2d(2048, 512, kernel_size=(7, 5), stride=(3, 2), padding=(2, 2))\n",
    "\n",
    "X = np.random.randn(3, 2048, 45, 60).astype(np.float32)\n",
    "X_tensor = torch.from_numpy(X.copy())\n",
    "inputs = Variable(X_tensor)\n",
    "\n",
    "y = conv_test(inputs)\n",
    "y.size()"
   ]
  },
  {
   "cell_type": "code",
   "execution_count": 4,
   "metadata": {
    "collapsed": true
   },
   "outputs": [],
   "source": [
    "X = np.random.randn(3, 3, 360, 480).astype(np.float32)\n",
    "X_tensor = torch.from_numpy(X.copy())\n",
    "inputs = Variable(X_tensor)"
   ]
  },
  {
   "cell_type": "code",
   "execution_count": 6,
   "metadata": {
    "collapsed": true
   },
   "outputs": [],
   "source": [
    "nn.Softmax2d?"
   ]
  },
  {
   "cell_type": "code",
   "execution_count": 11,
   "metadata": {
    "collapsed": true
   },
   "outputs": [],
   "source": [
    "torch.rand?"
   ]
  },
  {
   "cell_type": "code",
   "execution_count": null,
   "metadata": {
    "collapsed": true
   },
   "outputs": [],
   "source": []
  }
 ],
 "metadata": {
  "kernelspec": {
   "display_name": "Python 3",
   "language": "python",
   "name": "python3"
  },
  "language_info": {
   "codemirror_mode": {
    "name": "ipython",
    "version": 3
   },
   "file_extension": ".py",
   "mimetype": "text/x-python",
   "name": "python",
   "nbconvert_exporter": "python",
   "pygments_lexer": "ipython3",
   "version": "3.6.3"
  }
 },
 "nbformat": 4,
 "nbformat_minor": 2
}
